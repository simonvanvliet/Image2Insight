{
 "cells": [
  {
   "cell_type": "code",
   "execution_count": 2,
   "metadata": {},
   "outputs": [],
   "source": [
    "%matplotlib inline\n",
    "%config InlineBackend.figure_format = 'retina'\n",
    "%gui qt\n",
    "\n",
    "import numpy as np\n",
    "import pandas as pd\n",
    "\n",
    "import matplotlib\n",
    "import matplotlib.pyplot as plt\n",
    "matplotlib.rc(\"figure\", figsize=(10,5))\n",
    "\n",
    "import pathlib\n",
    "import tifffile\n",
    "\n",
    "import napari\n",
    "from napari.utils.notebook_display import nbscreenshot\n",
    "\n",
    "import delta\n",
    "\n",
    "import json"
   ]
  },
  {
   "cell_type": "markdown",
   "metadata": {},
   "source": [
    "Let's check if we will work on CPU or GPU:"
   ]
  },
  {
   "cell_type": "code",
   "execution_count": null,
   "metadata": {},
   "outputs": [],
   "source": [
    "root = pathlib.Path(pathlib.Path.home(), \n",
    "                    'I2ICourse/RawData/project1')"
   ]
  },
  {
   "cell_type": "markdown",
   "metadata": {},
   "source": [
    "We need to modify the config file for the proper paths"
   ]
  },
  {
   "cell_type": "code",
   "execution_count": 47,
   "metadata": {},
   "outputs": [
    {
     "name": "stdout",
     "output_type": "stream",
     "text": [
      "Loading configuration from: /Users/simonvanvliet/I2ICourse/RawData/project1/config_2D_local.json\n"
     ]
    }
   ],
   "source": [
    "# Load config ('2D' or 'mothermachine'):\n",
    "delta.config.load_config(new_config_file)\n",
    "\n",
    "# Use eval movie as example (or replace by None for interactive selection):\n",
    "file_path = delta.config.eval_movie\n",
    "\n",
    "# Init reader (use bioformats=True if working with nd2, czi, ome-tiff etc):\n",
    "xpreader = delta.utils.xpreader(file_path)\n",
    "\n",
    "# Print experiment parameters to make sure it initialized properly:\n",
    "print(\"\"\"Initialized experiment reader:\n",
    "    - %d positions\n",
    "    - %d imaging channels\n",
    "    - %d timepoints\"\"\"%(xpreader.positions, xpreader.channels, xpreader.timepoints)\n",
    ")\n",
    "\n",
    "# Init pipeline:\n",
    "xp = delta.pipeline.Pipeline(xpreader)"
   ]
  },
  {
   "cell_type": "code",
   "execution_count": 1,
   "metadata": {},
   "outputs": [
    {
     "ename": "NameError",
     "evalue": "name 'xpreader' is not defined",
     "output_type": "error",
     "traceback": [
      "\u001b[0;31m---------------------------------------------------------------------------\u001b[0m",
      "\u001b[0;31mNameError\u001b[0m                                 Traceback (most recent call last)",
      "\u001b[1;32m/Users/simonvanvliet/switchdrive/Biozentrum/Code/Image2Insight/Project1_Delta2/post_processing_delta.ipynb Cell 6'\u001b[0m in \u001b[0;36m<cell line: 1>\u001b[0;34m()\u001b[0m\n\u001b[0;32m----> <a href='vscode-notebook-cell:/Users/simonvanvliet/switchdrive/Biozentrum/Code/Image2Insight/Project1_Delta2/post_processing_delta.ipynb#ch0000009?line=0'>1</a>\u001b[0m xpreader\u001b[39m.\u001b[39mfilename\n",
      "\u001b[0;31mNameError\u001b[0m: name 'xpreader' is not defined"
     ]
    }
   ],
   "source": [
    "xpreader.filename\n"
   ]
  }
 ],
 "metadata": {
  "interpreter": {
   "hash": "6cb765ee22dcc904efaf1351ec4408646fdaf0eb2968a618fbd04b98f5406910"
  },
  "kernelspec": {
   "display_name": "Python [conda env:i2i_p1_env]",
   "language": "python",
   "name": "python3"
  },
  "language_info": {
   "codemirror_mode": {
    "name": "ipython",
    "version": 3
   },
   "file_extension": ".py",
   "mimetype": "text/x-python",
   "name": "python",
   "nbconvert_exporter": "python",
   "pygments_lexer": "ipython3",
   "version": "3.10.2"
  }
 },
 "nbformat": 4,
 "nbformat_minor": 4
}
