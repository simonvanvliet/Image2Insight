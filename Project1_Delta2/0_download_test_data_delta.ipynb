{
 "cells": [
  {
   "cell_type": "code",
   "execution_count": 1,
   "metadata": {},
   "outputs": [],
   "source": [
    "import pathlib\n",
    "import delta\n"
   ]
  },
  {
   "cell_type": "markdown",
   "metadata": {},
   "source": [
    "Now we set path to where we will store raw data, and create the relevant subfolders"
   ]
  },
  {
   "cell_type": "code",
   "execution_count": 8,
   "metadata": {},
   "outputs": [],
   "source": [
    "root = pathlib.Path(pathlib.Path.home(), \n",
    "                    'I2ICourse/RawData/project1')\n",
    "\n",
    "(root / 'models').mkdir(exist_ok=True)\n",
    "(root / 'sets').mkdir(exist_ok=True)\n",
    "(root / 'evals').mkdir(exist_ok=True)"
   ]
  },
  {
   "cell_type": "markdown",
   "metadata": {},
   "source": [
    "Now we can download the test data sets:"
   ]
  },
  {
   "cell_type": "code",
   "execution_count": null,
   "metadata": {},
   "outputs": [],
   "source": [
    "delta.assets.download_assets(\n",
    "    load_models=str((root / 'models').resolve()),\n",
    "    load_sets=False,\n",
    "    load_evals=str((root / 'evals').resolve()),\n",
    "    config_level=str(root.resolve())\n",
    ")"
   ]
  }
 ],
 "metadata": {
  "interpreter": {
   "hash": "6cb765ee22dcc904efaf1351ec4408646fdaf0eb2968a618fbd04b98f5406910"
  },
  "kernelspec": {
   "display_name": "Python [conda env:i2i_p1_env]",
   "language": "python",
   "name": "python3"
  },
  "language_info": {
   "codemirror_mode": {
    "name": "ipython",
    "version": 3
   },
   "file_extension": ".py",
   "mimetype": "text/x-python",
   "name": "python",
   "nbconvert_exporter": "python",
   "pygments_lexer": "ipython3",
   "version": "3.10.2"
  }
 },
 "nbformat": 4,
 "nbformat_minor": 4
}
