{
 "cells": [
  {
   "cell_type": "code",
   "execution_count": 2,
   "metadata": {},
   "outputs": [],
   "source": [
    "import pathlib\n",
    "import delta\n",
    "import json\n"
   ]
  },
  {
   "cell_type": "markdown",
   "metadata": {},
   "source": [
    "Let's check if we will work on CPU or GPU:"
   ]
  },
  {
   "cell_type": "code",
   "execution_count": 3,
   "metadata": {},
   "outputs": [
    {
     "data": {
      "text/plain": [
       "[PhysicalDevice(name='/physical_device:CPU:0', device_type='CPU')]"
      ]
     },
     "execution_count": 3,
     "metadata": {},
     "output_type": "execute_result"
    }
   ],
   "source": [
    "import tensorflow as tf\n",
    "tf.config.list_physical_devices()"
   ]
  },
  {
   "cell_type": "markdown",
   "metadata": {},
   "source": [
    "Set the path to the one you used in `download_test_data_delta`"
   ]
  },
  {
   "cell_type": "code",
   "execution_count": 3,
   "metadata": {},
   "outputs": [],
   "source": [
    "root = pathlib.Path(pathlib.Path.home(), \n",
    "                    'I2ICourse/RawData/project1')\n",
    "\n",
    "output_dir = pathlib.Path(pathlib.Path.home(), \n",
    "                    'I2ICourse/ProcessedData/project1')\n",
    "\n",
    "(output_dir).mkdir(exist_ok=True)\n"
   ]
  },
  {
   "cell_type": "markdown",
   "metadata": {},
   "source": [
    "We need to modify the config file for the proper paths"
   ]
  },
  {
   "cell_type": "code",
   "execution_count": 4,
   "metadata": {},
   "outputs": [],
   "source": [
    "# Load config ('2D' or 'mothermachine'):\n",
    "config_file = str((root / 'config_2D.json').resolve())\n",
    "\n",
    "with open(config_file) as f:\n",
    "    data = json.load(f)\n",
    "    \n",
    "old_model_path = 'D:/DeLTA_data/agar_pads'  \n",
    "new_model_path = str((root / 'models').resolve())\n",
    "data['model_file_seg'] = data['model_file_seg'].replace(old_model_path, new_model_path)    \n",
    "data['model_file_track'] = data['model_file_track'].replace(old_model_path, new_model_path)\n",
    "\n",
    "data['training_set_seg'] = str((root / 'sets' / '2D' / 'training' / 'segmentation_set').resolve())\n",
    "data['training_set_track'] = str((root / 'sets' / '2D' / 'training' / 'tracking_set').resolve())\n",
    "\n",
    "data['eval_movie'] = str((root / 'evals' / '2D' / 'movie_tifs').resolve())\n",
    "\n",
    "data['save_format'] = [\"pickle\", \"movie\"]   \n",
    "\n",
    "new_config_file = str((root / 'config_2D_local.json').resolve())\n",
    "with open(new_config_file, 'w') as f:\n",
    "    json.dump(data, f, indent=2)\n",
    "    "
   ]
  },
  {
   "cell_type": "markdown",
   "metadata": {},
   "source": [
    "Now we setup the pipeline"
   ]
  },
  {
   "cell_type": "code",
   "execution_count": 9,
   "metadata": {},
   "outputs": [
    {
     "name": "stdout",
     "output_type": "stream",
     "text": [
      "Loading configuration from: /Users/simonvanvliet/I2ICourse/RawData/project1/config_2D_local.json\n",
      "Initialized experiment reader:\n",
      "    - 1 positions\n",
      "    - 1 imaging channels\n",
      "    - 74 timepoints\n"
     ]
    }
   ],
   "source": [
    "# Load config ('2D' or 'mothermachine'):\n",
    "delta.config.load_config(new_config_file)\n",
    "\n",
    "# Use eval movie as example (or replace by None for interactive selection):\n",
    "file_path = delta.config.eval_movie\n",
    "\n",
    "# Init reader (use bioformats=True if working with nd2, czi, ome-tiff etc):\n",
    "xpreader = delta.utils.xpreader(file_path)\n",
    "\n",
    "# Print experiment parameters to make sure it initialized properly:\n",
    "print(\"\"\"Initialized experiment reader:\n",
    "    - %d positions\n",
    "    - %d imaging channels\n",
    "    - %d timepoints\"\"\"%(xpreader.positions, xpreader.channels, xpreader.timepoints)\n",
    ")\n",
    "\n",
    "# Init pipeline:\n",
    "xp = delta.pipeline.Pipeline(xpreader, resfolder=output_dir)"
   ]
  },
  {
   "cell_type": "markdown",
   "metadata": {},
   "source": [
    "Running the full analysis without a GPU takes a long time (150min on 2017 MacBook Pro with 2.8 GHz Quad-Core i7; using a RTX8000 GPU the same dataset is however processed in 3min!).\n",
    "\n",
    "Here we will just analyze the first 4 frames, so you can see the process. We will then load pre-processed data in the next notebook."
   ]
  },
  {
   "cell_type": "code",
   "execution_count": 11,
   "metadata": {},
   "outputs": [
    {
     "name": "stdout",
     "output_type": "stream",
     "text": [
      "Wed Mar  9 09:03:19 2022, Position 0 - Starting pre-processing\n",
      "Wed Mar  9 09:03:20 2022, Position 0 - Starting segmentation (4 frames)\n",
      "Wed Mar  9 09:08:20 2022, Position 0 - Starting tracking (4 frames)\n",
      "Wed Mar  9 09:08:20 2022, Position 0 - Tracking - frame 0/4 \n",
      "Wed Mar  9 09:08:20 2022, Position 0 - Tracking - frame 1/4 \n",
      "Wed Mar  9 09:08:22 2022, Position 0 - Tracking - frame 2/4 \n",
      "Wed Mar  9 09:08:24 2022, Position 0 - Tracking - frame 3/4 \n",
      "Wed Mar  9 09:08:25 2022, Position 0 - Starting feature extraction (4 frames)\n",
      "Wed Mar  9 09:08:25 2022, Position 0 - Feature extraction - frame 0/4 \n",
      "Wed Mar  9 09:08:26 2022, Position 0 - Feature extraction - frame 1/4 \n",
      "Wed Mar  9 09:08:26 2022, Position 0 - Feature extraction - frame 2/4 \n",
      "Wed Mar  9 09:08:26 2022, Position 0 - Feature extraction - frame 3/4 \n",
      "Wed Mar  9 09:08:26 2022, Position 0 - Saving to legacy format\n",
      "/Users/simonvanvliet/I2ICourse/ProcessedData/project1/Position000000.mat\n",
      "Wed Mar  9 09:08:27 2022, Position 0 - Saving to pickle format\n",
      "/Users/simonvanvliet/I2ICourse/ProcessedData/project1/Position000000.pkl\n",
      "Wed Mar  9 09:08:27 2022, Position 0 - Saving results movie\n",
      "/Users/simonvanvliet/I2ICourse/ProcessedData/project1/Position000000.mp4\n",
      "Wed Mar  9 09:08:31 2022, Position 0 - Clearing variables from memory\n"
     ]
    }
   ],
   "source": [
    "# Run it (you can specify which positions, which frames to run etc):\n",
    "xp.process(frames=list(range(4)))\n",
    "#"
   ]
  }
 ],
 "metadata": {
  "interpreter": {
   "hash": "6cb765ee22dcc904efaf1351ec4408646fdaf0eb2968a618fbd04b98f5406910"
  },
  "kernelspec": {
   "display_name": "Python [conda env:i2i_p1_env]",
   "language": "python",
   "name": "python3"
  },
  "language_info": {
   "codemirror_mode": {
    "name": "ipython",
    "version": 3
   },
   "file_extension": ".py",
   "mimetype": "text/x-python",
   "name": "python",
   "nbconvert_exporter": "python",
   "pygments_lexer": "ipython3",
   "version": "3.10.2"
  }
 },
 "nbformat": 4,
 "nbformat_minor": 4
}
