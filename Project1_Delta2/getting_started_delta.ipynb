{
 "cells": [
  {
   "cell_type": "code",
   "execution_count": 1,
   "metadata": {},
   "outputs": [],
   "source": [
    "%matplotlib inline\n",
    "%config InlineBackend.figure_format = 'retina'\n",
    "%gui qt\n",
    "\n",
    "import numpy as np\n",
    "import pandas as pd\n",
    "\n",
    "import matplotlib\n",
    "import matplotlib.pyplot as plt\n",
    "matplotlib.rc(\"figure\", figsize=(10,5))\n",
    "\n",
    "import pathlib\n",
    "import tifffile\n",
    "\n",
    "import napari\n",
    "from napari.utils.notebook_display import nbscreenshot\n",
    "\n",
    "import delta\n",
    "\n",
    "import json"
   ]
  },
  {
   "cell_type": "markdown",
   "metadata": {},
   "source": [
    "Let's check if we will work on CPU or GPU:"
   ]
  },
  {
   "cell_type": "code",
   "execution_count": 2,
   "metadata": {},
   "outputs": [
    {
     "data": {
      "text/plain": [
       "[PhysicalDevice(name='/physical_device:CPU:0', device_type='CPU')]"
      ]
     },
     "execution_count": 2,
     "metadata": {},
     "output_type": "execute_result"
    }
   ],
   "source": [
    "import tensorflow as tf\n",
    "tf.config.list_physical_devices()"
   ]
  },
  {
   "cell_type": "markdown",
   "metadata": {},
   "source": [
    "Set the path to the one you used in `download_test_data_delta`"
   ]
  },
  {
   "cell_type": "code",
   "execution_count": 44,
   "metadata": {},
   "outputs": [],
   "source": [
    "root = pathlib.Path(pathlib.Path.home(), \n",
    "                    'I2ICourse/RawData/project1')"
   ]
  },
  {
   "cell_type": "markdown",
   "metadata": {},
   "source": [
    "We need to modify the config file for the proper paths"
   ]
  },
  {
   "cell_type": "code",
   "execution_count": 46,
   "metadata": {},
   "outputs": [],
   "source": [
    "# Load config ('2D' or 'mothermachine'):\n",
    "config_file = str((root / 'config_2D.json').resolve())\n",
    "\n",
    "with open(config_file) as f:\n",
    "    data = json.load(f)\n",
    "    \n",
    "old_model_path = 'D:/DeLTA_data/agar_pads'  \n",
    "new_model_path = str((root / 'models').resolve())\n",
    "data['model_file_seg'] = data['model_file_seg'].replace(old_model_path, new_model_path)    \n",
    "data['model_file_track'] = data['model_file_track'].replace(old_model_path, new_model_path)\n",
    "\n",
    "data['training_set_seg'] = str((root / 'sets' / '2D' / 'training' / 'segmentation_set').resolve())\n",
    "data['training_set_track'] = str((root / 'sets' / '2D' / 'training' / 'tracking_set').resolve())\n",
    "\n",
    "data['eval_movie'] = str((root / 'evals' / '2D' / 'movie_tifs').resolve())\n",
    "    \n",
    "\n",
    "new_config_file = str((root / 'config_2D_local.json').resolve())\n",
    "with open(new_config_file, 'w') as f:\n",
    "    json.dump(data, f, indent=2)\n",
    "    "
   ]
  },
  {
   "cell_type": "code",
   "execution_count": 47,
   "metadata": {},
   "outputs": [
    {
     "name": "stdout",
     "output_type": "stream",
     "text": [
      "Loading configuration from: /Users/simonvanvliet/I2ICourse/RawData/project1/config_2D_local.json\n"
     ]
    }
   ],
   "source": [
    "# Load config ('2D' or 'mothermachine'):\n",
    "delta.config.load_config(new_config_file)\n",
    "\n",
    "# Use eval movie as example (or replace by None for interactive selection):\n",
    "file_path = delta.config.eval_movie\n",
    "\n",
    "# Init reader (use bioformats=True if working with nd2, czi, ome-tiff etc):\n",
    "xpreader = delta.utils.xpreader(file_path)\n",
    "\n",
    "# Print experiment parameters to make sure it initialized properly:\n",
    "print(\"\"\"Initialized experiment reader:\n",
    "    - %d positions\n",
    "    - %d imaging channels\n",
    "    - %d timepoints\"\"\"%(xpreader.positions, xpreader.channels, xpreader.timepoints)\n",
    ")\n",
    "\n",
    "# Init pipeline:\n",
    "xp = delta.pipeline.Pipeline(xpreader)"
   ]
  },
  {
   "cell_type": "code",
   "execution_count": 49,
   "metadata": {},
   "outputs": [
    {
     "name": "stdout",
     "output_type": "stream",
     "text": [
      "Tue Mar  8 16:52:01 2022, Position 0 - Starting pre-processing\n",
      "Tue Mar  8 16:52:01 2022, Position 0 - Starting segmentation (74 frames)\n",
      "Tue Mar  8 18:29:36 2022, Position 0 - Starting tracking (74 frames)\n",
      "Tue Mar  8 18:29:36 2022, Position 0 - Tracking - frame 0/74 \n",
      "Tue Mar  8 18:29:36 2022, Position 0 - Tracking - frame 1/74 \n",
      "Tue Mar  8 18:29:40 2022, Position 0 - Tracking - frame 2/74 \n",
      "Tue Mar  8 18:29:44 2022, Position 0 - Tracking - frame 3/74 \n",
      "Tue Mar  8 18:29:47 2022, Position 0 - Tracking - frame 4/74 \n",
      "Tue Mar  8 18:29:49 2022, Position 0 - Tracking - frame 5/74 \n",
      "Tue Mar  8 18:29:53 2022, Position 0 - Tracking - frame 6/74 \n",
      "Tue Mar  8 18:29:56 2022, Position 0 - Tracking - frame 7/74 \n",
      "Tue Mar  8 18:29:59 2022, Position 0 - Tracking - frame 8/74 \n",
      "Tue Mar  8 18:30:01 2022, Position 0 - Tracking - frame 9/74 \n",
      "Tue Mar  8 18:30:04 2022, Position 0 - Tracking - frame 10/74 \n",
      "Tue Mar  8 18:30:06 2022, Position 0 - Tracking - frame 11/74 \n",
      "Tue Mar  8 18:30:09 2022, Position 0 - Tracking - frame 12/74 \n",
      "Tue Mar  8 18:30:12 2022, Position 0 - Tracking - frame 13/74 \n",
      "Tue Mar  8 18:30:17 2022, Position 0 - Tracking - frame 14/74 \n",
      "Tue Mar  8 18:30:21 2022, Position 0 - Tracking - frame 15/74 \n",
      "Tue Mar  8 18:30:25 2022, Position 0 - Tracking - frame 16/74 \n",
      "Tue Mar  8 18:30:29 2022, Position 0 - Tracking - frame 17/74 \n",
      "Tue Mar  8 18:30:33 2022, Position 0 - Tracking - frame 18/74 \n",
      "Tue Mar  8 18:30:37 2022, Position 0 - Tracking - frame 19/74 \n",
      "Tue Mar  8 18:30:43 2022, Position 0 - Tracking - frame 20/74 \n",
      "Tue Mar  8 18:30:50 2022, Position 0 - Tracking - frame 21/74 \n",
      "Tue Mar  8 18:30:59 2022, Position 0 - Tracking - frame 22/74 \n",
      "Tue Mar  8 18:31:07 2022, Position 0 - Tracking - frame 23/74 \n",
      "Tue Mar  8 18:31:16 2022, Position 0 - Tracking - frame 24/74 \n",
      "Tue Mar  8 18:31:27 2022, Position 0 - Tracking - frame 25/74 \n",
      "Tue Mar  8 18:31:39 2022, Position 0 - Tracking - frame 26/74 \n",
      "Tue Mar  8 18:31:51 2022, Position 0 - Tracking - frame 27/74 \n",
      "Tue Mar  8 18:32:06 2022, Position 0 - Tracking - frame 28/74 \n",
      "Tue Mar  8 18:32:22 2022, Position 0 - Tracking - frame 29/74 \n",
      "Tue Mar  8 18:32:37 2022, Position 0 - Tracking - frame 30/74 \n",
      "Tue Mar  8 18:32:51 2022, Position 0 - Tracking - frame 31/74 \n",
      "Tue Mar  8 18:33:09 2022, Position 0 - Tracking - frame 32/74 \n",
      "Tue Mar  8 18:33:28 2022, Position 0 - Tracking - frame 33/74 \n",
      "Tue Mar  8 18:33:49 2022, Position 0 - Tracking - frame 34/74 \n",
      "Tue Mar  8 18:34:11 2022, Position 0 - Tracking - frame 35/74 \n",
      "Tue Mar  8 18:34:34 2022, Position 0 - Tracking - frame 36/74 \n",
      "Tue Mar  8 18:34:55 2022, Position 0 - Tracking - frame 37/74 \n",
      "Tue Mar  8 18:35:17 2022, Position 0 - Tracking - frame 38/74 \n",
      "Tue Mar  8 18:35:39 2022, Position 0 - Tracking - frame 39/74 \n",
      "Tue Mar  8 18:36:05 2022, Position 0 - Tracking - frame 40/74 \n",
      "Tue Mar  8 18:36:29 2022, Position 0 - Tracking - frame 41/74 \n",
      "Tue Mar  8 18:36:55 2022, Position 0 - Tracking - frame 42/74 \n",
      "Tue Mar  8 18:37:26 2022, Position 0 - Tracking - frame 43/74 \n",
      "Tue Mar  8 18:38:04 2022, Position 0 - Tracking - frame 44/74 \n",
      "Tue Mar  8 18:38:40 2022, Position 0 - Tracking - frame 45/74 \n",
      "Tue Mar  8 18:39:32 2022, Position 0 - Tracking - frame 46/74 \n",
      "Tue Mar  8 18:40:13 2022, Position 0 - Tracking - frame 47/74 \n",
      "Tue Mar  8 18:40:59 2022, Position 0 - Tracking - frame 48/74 \n",
      "Tue Mar  8 18:41:49 2022, Position 0 - Tracking - frame 49/74 \n",
      "Tue Mar  8 18:42:39 2022, Position 0 - Tracking - frame 50/74 \n",
      "Tue Mar  8 18:43:35 2022, Position 0 - Tracking - frame 51/74 \n",
      "Tue Mar  8 18:44:27 2022, Position 0 - Tracking - frame 52/74 \n",
      "Tue Mar  8 18:45:25 2022, Position 0 - Tracking - frame 53/74 \n",
      "Tue Mar  8 18:46:30 2022, Position 0 - Tracking - frame 54/74 \n",
      "Tue Mar  8 18:47:34 2022, Position 0 - Tracking - frame 55/74 \n",
      "Tue Mar  8 18:48:38 2022, Position 0 - Tracking - frame 56/74 \n",
      "Tue Mar  8 18:49:45 2022, Position 0 - Tracking - frame 57/74 \n",
      "Tue Mar  8 18:50:54 2022, Position 0 - Tracking - frame 58/74 \n",
      "Tue Mar  8 18:52:14 2022, Position 0 - Tracking - frame 59/74 \n",
      "Tue Mar  8 18:53:26 2022, Position 0 - Tracking - frame 60/74 \n",
      "Tue Mar  8 18:54:36 2022, Position 0 - Tracking - frame 61/74 \n",
      "Tue Mar  8 18:55:49 2022, Position 0 - Tracking - frame 62/74 \n",
      "Tue Mar  8 18:57:02 2022, Position 0 - Tracking - frame 63/74 \n",
      "Tue Mar  8 18:58:19 2022, Position 0 - Tracking - frame 64/74 \n",
      "Tue Mar  8 18:59:51 2022, Position 0 - Tracking - frame 65/74 \n",
      "Tue Mar  8 19:01:23 2022, Position 0 - Tracking - frame 66/74 \n",
      "Tue Mar  8 19:02:53 2022, Position 0 - Tracking - frame 67/74 \n",
      "Tue Mar  8 19:04:39 2022, Position 0 - Tracking - frame 68/74 \n",
      "Tue Mar  8 19:06:18 2022, Position 0 - Tracking - frame 69/74 \n",
      "Tue Mar  8 19:07:57 2022, Position 0 - Tracking - frame 70/74 \n",
      "Tue Mar  8 19:09:36 2022, Position 0 - Tracking - frame 71/74 \n",
      "Tue Mar  8 19:11:29 2022, Position 0 - Tracking - frame 72/74 \n",
      "Tue Mar  8 19:13:28 2022, Position 0 - Tracking - frame 73/74 \n",
      "Tue Mar  8 19:15:36 2022, Position 0 - Starting feature extraction (74 frames)\n",
      "Tue Mar  8 19:15:36 2022, Position 0 - Feature extraction - frame 0/74 \n",
      "Tue Mar  8 19:15:37 2022, Position 0 - Feature extraction - frame 1/74 \n",
      "Tue Mar  8 19:15:37 2022, Position 0 - Feature extraction - frame 2/74 \n",
      "Tue Mar  8 19:15:37 2022, Position 0 - Feature extraction - frame 3/74 \n",
      "Tue Mar  8 19:15:37 2022, Position 0 - Feature extraction - frame 4/74 \n",
      "Tue Mar  8 19:15:37 2022, Position 0 - Feature extraction - frame 5/74 \n",
      "Tue Mar  8 19:15:37 2022, Position 0 - Feature extraction - frame 6/74 \n",
      "Tue Mar  8 19:15:37 2022, Position 0 - Feature extraction - frame 7/74 \n",
      "Tue Mar  8 19:15:37 2022, Position 0 - Feature extraction - frame 8/74 \n",
      "Tue Mar  8 19:15:37 2022, Position 0 - Feature extraction - frame 9/74 \n",
      "Tue Mar  8 19:15:37 2022, Position 0 - Feature extraction - frame 10/74 \n",
      "Tue Mar  8 19:15:37 2022, Position 0 - Feature extraction - frame 11/74 \n",
      "Tue Mar  8 19:15:38 2022, Position 0 - Feature extraction - frame 12/74 \n",
      "Tue Mar  8 19:15:38 2022, Position 0 - Feature extraction - frame 13/74 \n",
      "Tue Mar  8 19:15:38 2022, Position 0 - Feature extraction - frame 14/74 \n",
      "Tue Mar  8 19:15:38 2022, Position 0 - Feature extraction - frame 15/74 \n",
      "Tue Mar  8 19:15:38 2022, Position 0 - Feature extraction - frame 16/74 \n",
      "Tue Mar  8 19:15:38 2022, Position 0 - Feature extraction - frame 17/74 \n",
      "Tue Mar  8 19:15:38 2022, Position 0 - Feature extraction - frame 18/74 \n",
      "Tue Mar  8 19:15:38 2022, Position 0 - Feature extraction - frame 19/74 \n",
      "Tue Mar  8 19:15:38 2022, Position 0 - Feature extraction - frame 20/74 \n",
      "Tue Mar  8 19:15:38 2022, Position 0 - Feature extraction - frame 21/74 \n",
      "Tue Mar  8 19:15:38 2022, Position 0 - Feature extraction - frame 22/74 \n",
      "Tue Mar  8 19:15:39 2022, Position 0 - Feature extraction - frame 23/74 \n",
      "Tue Mar  8 19:15:39 2022, Position 0 - Feature extraction - frame 24/74 \n",
      "Tue Mar  8 19:15:39 2022, Position 0 - Feature extraction - frame 25/74 \n",
      "Tue Mar  8 19:15:39 2022, Position 0 - Feature extraction - frame 26/74 \n",
      "Tue Mar  8 19:15:39 2022, Position 0 - Feature extraction - frame 27/74 \n",
      "Tue Mar  8 19:15:39 2022, Position 0 - Feature extraction - frame 28/74 \n",
      "Tue Mar  8 19:15:39 2022, Position 0 - Feature extraction - frame 29/74 \n",
      "Tue Mar  8 19:15:40 2022, Position 0 - Feature extraction - frame 30/74 \n",
      "Tue Mar  8 19:15:40 2022, Position 0 - Feature extraction - frame 31/74 \n",
      "Tue Mar  8 19:15:40 2022, Position 0 - Feature extraction - frame 32/74 \n",
      "Tue Mar  8 19:15:40 2022, Position 0 - Feature extraction - frame 33/74 \n",
      "Tue Mar  8 19:15:40 2022, Position 0 - Feature extraction - frame 34/74 \n",
      "Tue Mar  8 19:15:40 2022, Position 0 - Feature extraction - frame 35/74 \n",
      "Tue Mar  8 19:15:40 2022, Position 0 - Feature extraction - frame 36/74 \n",
      "Tue Mar  8 19:15:41 2022, Position 0 - Feature extraction - frame 37/74 \n",
      "Tue Mar  8 19:15:41 2022, Position 0 - Feature extraction - frame 38/74 \n",
      "Tue Mar  8 19:15:41 2022, Position 0 - Feature extraction - frame 39/74 \n",
      "Tue Mar  8 19:15:41 2022, Position 0 - Feature extraction - frame 40/74 \n",
      "Tue Mar  8 19:15:41 2022, Position 0 - Feature extraction - frame 41/74 \n",
      "Tue Mar  8 19:15:42 2022, Position 0 - Feature extraction - frame 42/74 \n",
      "Tue Mar  8 19:15:42 2022, Position 0 - Feature extraction - frame 43/74 \n",
      "Tue Mar  8 19:15:42 2022, Position 0 - Feature extraction - frame 44/74 \n",
      "Tue Mar  8 19:15:42 2022, Position 0 - Feature extraction - frame 45/74 \n",
      "Tue Mar  8 19:15:43 2022, Position 0 - Feature extraction - frame 46/74 \n",
      "Tue Mar  8 19:15:43 2022, Position 0 - Feature extraction - frame 47/74 \n",
      "Tue Mar  8 19:15:43 2022, Position 0 - Feature extraction - frame 48/74 \n",
      "Tue Mar  8 19:15:43 2022, Position 0 - Feature extraction - frame 49/74 \n",
      "Tue Mar  8 19:15:44 2022, Position 0 - Feature extraction - frame 50/74 \n",
      "Tue Mar  8 19:15:44 2022, Position 0 - Feature extraction - frame 51/74 \n",
      "Tue Mar  8 19:15:44 2022, Position 0 - Feature extraction - frame 52/74 \n",
      "Tue Mar  8 19:15:45 2022, Position 0 - Feature extraction - frame 53/74 \n",
      "Tue Mar  8 19:15:45 2022, Position 0 - Feature extraction - frame 54/74 \n",
      "Tue Mar  8 19:15:45 2022, Position 0 - Feature extraction - frame 55/74 \n",
      "Tue Mar  8 19:15:46 2022, Position 0 - Feature extraction - frame 56/74 \n",
      "Tue Mar  8 19:15:46 2022, Position 0 - Feature extraction - frame 57/74 \n",
      "Tue Mar  8 19:15:46 2022, Position 0 - Feature extraction - frame 58/74 \n",
      "Tue Mar  8 19:15:47 2022, Position 0 - Feature extraction - frame 59/74 \n",
      "Tue Mar  8 19:15:47 2022, Position 0 - Feature extraction - frame 60/74 \n",
      "Tue Mar  8 19:15:48 2022, Position 0 - Feature extraction - frame 61/74 \n",
      "Tue Mar  8 19:15:48 2022, Position 0 - Feature extraction - frame 62/74 \n",
      "Tue Mar  8 19:15:49 2022, Position 0 - Feature extraction - frame 63/74 \n",
      "Tue Mar  8 19:15:49 2022, Position 0 - Feature extraction - frame 64/74 \n",
      "Tue Mar  8 19:15:50 2022, Position 0 - Feature extraction - frame 65/74 \n",
      "Tue Mar  8 19:15:50 2022, Position 0 - Feature extraction - frame 66/74 \n",
      "Tue Mar  8 19:15:51 2022, Position 0 - Feature extraction - frame 67/74 \n",
      "Tue Mar  8 19:15:51 2022, Position 0 - Feature extraction - frame 68/74 \n",
      "Tue Mar  8 19:15:52 2022, Position 0 - Feature extraction - frame 69/74 \n",
      "Tue Mar  8 19:15:53 2022, Position 0 - Feature extraction - frame 70/74 \n",
      "Tue Mar  8 19:15:54 2022, Position 0 - Feature extraction - frame 71/74 \n",
      "Tue Mar  8 19:15:54 2022, Position 0 - Feature extraction - frame 72/74 \n",
      "Tue Mar  8 19:15:55 2022, Position 0 - Feature extraction - frame 73/74 \n",
      "Tue Mar  8 19:15:56 2022, Position 0 - Saving to legacy format\n",
      "/Users/simonvanvliet/I2ICourse/RawData/project1/evals/2D/movie_tifs/delta_results/Position000000.mat\n",
      "Tue Mar  8 19:16:28 2022, Position 0 - Saving to pickle format\n",
      "/Users/simonvanvliet/I2ICourse/RawData/project1/evals/2D/movie_tifs/delta_results/Position000000.pkl\n",
      "Tue Mar  8 19:16:35 2022, Position 0 - Saving results movie\n",
      "/Users/simonvanvliet/I2ICourse/RawData/project1/evals/2D/movie_tifs/delta_results/Position000000.mp4\n",
      "Tue Mar  8 19:18:43 2022, Position 0 - Clearing variables from memory\n"
     ]
    }
   ],
   "source": [
    "# Run it (you can specify which positions, which frames to run etc):\n",
    "xp.process()\n"
   ]
  }
 ],
 "metadata": {
  "interpreter": {
   "hash": "6cb765ee22dcc904efaf1351ec4408646fdaf0eb2968a618fbd04b98f5406910"
  },
  "kernelspec": {
   "display_name": "Python [conda env:i2i_p1_env]",
   "language": "python",
   "name": "python3"
  },
  "language_info": {
   "codemirror_mode": {
    "name": "ipython",
    "version": 3
   },
   "file_extension": ".py",
   "mimetype": "text/x-python",
   "name": "python",
   "nbconvert_exporter": "python",
   "pygments_lexer": "ipython3",
   "version": "3.10.2"
  }
 },
 "nbformat": 4,
 "nbformat_minor": 4
}
