{
 "cells": [
  {
   "cell_type": "code",
   "execution_count": null,
   "metadata": {},
   "outputs": [],
   "source": [
    "from skimage.future import graph\n",
    "rag = graph.rag.rag_boundary(labels,edges,connectivity=2)\n",
    "labels_merged = graph.cut_threshold(labels, rag, 0.4, in_place=False) #used 0.88 for large set\n",
    "graph.show_rag(label_sep[0,:,:], rag, bin_mask_clean[o,:,:]) "
   ]
  },
  {
   "cell_type": "markdown",
   "metadata": {},
   "source": [
    "Things to discuss:\n",
    "\n",
    "Post-processing: \n",
    "`skimage.segmentation.expand_labels(label_image)`\n",
    "`skimage.segmentation.clear_border(labels[, ...])`\n",
    "\n",
    "edges = segmentation.find_boundaries(labels)\n",
    "\n"
   ]
  },
  {
   "cell_type": "code",
   "execution_count": null,
   "metadata": {},
   "outputs": [],
   "source": [
    "labels_merged = np.empty(seg_cell_sm.shape, dtype=np.int32) #initialize empty array of right size for ou\n",
    "\n",
    "for t, labels in enumerate(label_sep):\n",
    "    edges = filters.sobel(seg_cell_sm[t,:,:])\n",
    "    edges = (edges - np.min(edges[:]))/(np.max(edges[:]) - np.min(edges[:]))\n",
    "    \n",
    "    rag = graph.rag.rag_boundary(labels,edges.astype(np.float32),connectivity=2)\n",
    "    labels_merged[t,:,:] = graph.cut_threshold(labels, rag, 0.6, in_place=False)\n",
    "    \n",
    "    \n",
    "merged_layer = viewer.add_labels(labels_merged, name='after merging')   "
   ]
  },
  {
   "cell_type": "code",
   "execution_count": null,
   "metadata": {},
   "outputs": [],
   "source": [
    "# Uncomment the following line to see the solution\n",
    "# %load ./snippets/solution_exercise.py"
   ]
  }
 ],
 "metadata": {
  "language_info": {
   "name": "python"
  },
  "orig_nbformat": 4
 },
 "nbformat": 4,
 "nbformat_minor": 2
}
