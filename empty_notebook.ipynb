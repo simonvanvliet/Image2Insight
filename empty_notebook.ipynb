{
 "cells": [
  {
   "cell_type": "code",
   "execution_count": 1,
   "id": "0bd583a2-bc18-4554-88a7-b32d7371b6c5",
   "metadata": {},
   "outputs": [],
   "source": [
    "#set plotting to inline\n",
    "%matplotlib inline  \n",
    "\n",
    "#import relevant packages\n",
    "import numpy as np\n",
    "import scipy as sc\n",
    "import matplotlib.pyplot as plt\n",
    "\n",
    "#set plot options to get nicer figures\n",
    "plt.rcParams['figure.figsize'] = [12, 4]\n",
    "plt.rcParams['figure.dpi'] = 100"
   ]
  },
  {
   "cell_type": "code",
   "execution_count": null,
   "id": "e70f7cd1-0a3b-4c0e-b9dd-edf90612fc1a",
   "metadata": {},
   "outputs": [],
   "source": []
  }
 ],
 "metadata": {
  "kernelspec": {
   "display_name": "Python [conda env:i2i_p0_env]",
   "language": "python",
   "name": "conda-env-i2i_p0_env-py"
  },
  "language_info": {
   "codemirror_mode": {
    "name": "ipython",
    "version": 3
   },
   "file_extension": ".py",
   "mimetype": "text/x-python",
   "name": "python",
   "nbconvert_exporter": "python",
   "pygments_lexer": "ipython3",
   "version": "3.9.7"
  }
 },
 "nbformat": 4,
 "nbformat_minor": 5
}
