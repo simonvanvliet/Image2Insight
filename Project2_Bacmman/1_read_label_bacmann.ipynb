{
 "cells": [
  {
   "cell_type": "code",
   "execution_count": 4,
   "metadata": {},
   "outputs": [],
   "source": [
    "import sqlite3\n",
    "from pybacmman.selections import saveAndOpenSelection\n",
    "import pandas as pd\n"
   ]
  },
  {
   "cell_type": "code",
   "execution_count": 5,
   "metadata": {},
   "outputs": [],
   "source": [
    "dsName = \"test_run\" # change to the actual name of the experiment\n",
    "objectClassIdx = 1\n",
    "folder_path = \"~/switchdrive/Biozentrum/Data/Bacmman_i2i/\" # change this path so that it points to the folder containing experiment folders\n",
    "data = pd.read_csv(os.path.join(folder_path, dsName, f\"{dsName}_{objectClassIdx}.csv\"), sep=';') # 1 is for the object class #1 = bacteria"
   ]
  },
  {
   "cell_type": "code",
   "execution_count": 7,
   "metadata": {},
   "outputs": [],
   "source": [
    "db_path = '/Users/simonvanvliet/switchdrive/Biozentrum/Data/Bacmman_i2i/test_run/Output/dataset1_0-50/segmented_objects/objects_1.db'\n",
    "\n",
    "con = sqlite3.connect(db_path)\n",
    "cur = con.cursor()\n",
    "\n",
    "\n",
    "\n"
   ]
  },
  {
   "cell_type": "code",
   "execution_count": null,
   "metadata": {},
   "outputs": [],
   "source": []
  },
  {
   "cell_type": "markdown",
   "metadata": {},
   "source": []
  }
 ],
 "metadata": {
  "interpreter": {
   "hash": "593a485e616a803df7324abb541671f2e595449903e18ffe6d5999b643ad2372"
  },
  "kernelspec": {
   "display_name": "Python 3.9.10 ('i2i_p2_env')",
   "language": "python",
   "name": "python3"
  },
  "language_info": {
   "codemirror_mode": {
    "name": "ipython",
    "version": 3
   },
   "file_extension": ".py",
   "mimetype": "text/x-python",
   "name": "python",
   "nbconvert_exporter": "python",
   "pygments_lexer": "ipython3",
   "version": "3.9.10"
  },
  "orig_nbformat": 4
 },
 "nbformat": 4,
 "nbformat_minor": 2
}
